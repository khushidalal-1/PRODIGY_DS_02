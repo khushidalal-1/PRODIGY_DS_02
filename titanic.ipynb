import pandas as pd

# Load using absolute path
df = pd.read_csv(r"C:\Users\kdala\OneDrive\Documents\train.csv")
df.head()
df.shape
df.columns
df.info()
df.describe()
df.isnull().sum()
df['Age'].fillna(df['Age'].median(), inplace=True)
df['Embarked'].fillna(df['Embarked'].mode()[0], inplace=True)
df.drop('Cabin', axis=1, inplace=True)
df.drop_duplicates(inplace=True)
df.isnull().sum()
import seaborn as sns
import matplotlib.pyplot as plt

sns.countplot(x='Survived', data=df)
plt.title('Count of Survival (0 = No, 1 = Yes)')
plt.show()
sns.countplot(x='Pclass', data=df)
plt.title('Passenger Class Distribution')
plt.show()

sns.histplot(df['Age'], kde=True, bins=30)
plt.title('Age Distribution of Passengers')
plt.xlabel('Age')
plt.ylabel('Frequency')
plt.show()

sns.histplot(df['Fare'], kde=True, bins=40)
plt.title('Fare Paid by Passengers')
plt.show()

sns.barplot(x='Sex', y='Survived', data=df)
plt.title('Survival Rate by Gender')
plt.show()

sns.barplot(x='Pclass', y='Survived', data=df)
plt.title('Survival Rate by Passenger Class')
plt.show()

sns.boxplot(x='Survived', y='Age', data=df)
plt.title('Age vs Survival')
plt.show()

sns.boxplot(x='Survived', y='Fare', data=df)
plt.title('Fare vs Survival')
plt.show()

sns.catplot(x='Pclass', hue='Sex', col='Survived',
            kind='count', data=df)

import numpy as np

numeric_df = df.select_dtypes(include=[np.number])
numeric_df.head()

import matplotlib.pyplot as plt
import seaborn as sns

plt.figure(figsize=(10,6))
sns.heatmap(numeric_df.corr(), annot=True, cmap='coolwarm', linewidths=0.5)
plt.title("Correlation Heatmap of Titanic Numeric Features")
plt.show()

sns.pairplot(numeric_df, hue='Survived', corner=True)


# Save the cleaned DataFrame to a new CSV file
df.to_csv(r"C:\Users\kdala\OneDrive\Documents\cleaned_titanic_data.csv", index=False)